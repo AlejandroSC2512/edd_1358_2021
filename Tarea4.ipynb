{
  "nbformat": 4,
  "nbformat_minor": 0,
  "metadata": {
    "colab": {
      "name": "Tarea4.ipynb",
      "provenance": [],
      "collapsed_sections": [],
      "authorship_tag": "ABX9TyPbWEGrD/rgdc3ehdKvW01O",
      "include_colab_link": true
    },
    "kernelspec": {
      "name": "python3",
      "display_name": "Python 3"
    }
  },
  "cells": [
    {
      "cell_type": "markdown",
      "metadata": {
        "id": "view-in-github",
        "colab_type": "text"
      },
      "source": [
        "<a href=\"https://colab.research.google.com/github/AlejandroSC2512/edd_1358_2021/blob/master/Tarea4.ipynb\" target=\"_parent\"><img src=\"https://colab.research.google.com/assets/colab-badge.svg\" alt=\"Open In Colab\"/></a>"
      ]
    },
    {
      "cell_type": "code",
      "metadata": {
        "id": "4zCIyUBVzLVt"
      },
      "source": [
        "class Nodo:\n",
        "  def __init__(self,dato,siguiente=None):\n",
        "    self.dato=dato\n",
        "    self.siguiente=siguiente\n",
        "\n",
        "class LinkedList:\n",
        "  def __init__( self ):\n",
        "    self.__head = None\n",
        "  \n",
        "  def is_impty( self ):\n",
        "    return self.__head == None \n",
        "\n",
        "  def is_empty(self):\n",
        "    return self.__head == None \n",
        "\n",
        "  def tail(self):\n",
        "    curr_node=self.__head\n",
        "    while curr_node !=None and curr_node.siguiente != None:\n",
        "      curr_node = curr_node.siguiente\n",
        "    return curr_node\n",
        "\n",
        "  def append ( self, value):\n",
        "    nuevo = Nodo(value)\n",
        "    if self.__head == None:\n",
        "      self.__head = nuevo\n",
        "    else:\n",
        "      self.tail().siguiente = nuevo\n",
        "\n",
        "  def tranversal(self):\n",
        "    curr_node = self.__head\n",
        "    if curr_node == None:\n",
        "      print(\"Lista vacia\")\n",
        "    else:\n",
        "      while curr_node != None:\n",
        "        print(f\"{curr_node.dato} -->\", end= \"\")\n",
        "        curr_node = curr_node.siguiente\n",
        "    print(\"\")\n",
        "\n",
        "  def prepend(self,value):\n",
        "    nuevo = Nodo(value)\n",
        "    if self.__head == None:\n",
        "      self.__head = nuevo\n",
        "    else:\n",
        "      x = self.__head\n",
        "      self.__head = nuevo\n",
        "      nuevo.siguiente = x\n",
        "  \n",
        "  def remove (self, value):\n",
        "    curr_node=self.__head\n",
        "    while curr_node.siguiente.dato != value:\n",
        "      if curr_node.siguiente == None:\n",
        "        return false\n",
        "      else:\n",
        "       curr_node = curr_node.siguiente\n",
        "    remove = curr_node.siguiente\n",
        "    curr_node.siguiente = remove.siguiente"
      ],
      "execution_count": 87,
      "outputs": []
    },
    {
      "cell_type": "code",
      "metadata": {
        "colab": {
          "base_uri": "https://localhost:8080/"
        },
        "id": "eyNxBEtgzVQW",
        "outputId": "f6843174-53f5-44e0-a8e6-5fa1da8b1f46"
      },
      "source": [
        "l = LinkedList()\n",
        "print(f\"L esta vacia? = {l.is_empty()}\")\n",
        "x = l.tail()\n",
        "print(x)\n",
        "l.append(10)\n",
        "l.append(20)\n",
        "l.append(30)\n",
        "l.append(40)\n",
        "l.tranversal()\n",
        "l.prepend(5)\n",
        "l.tranversal()\n",
        "l.remove(20)\n",
        "l.tranversal()"
      ],
      "execution_count": 89,
      "outputs": [
        {
          "output_type": "stream",
          "text": [
            "L esta vacia? = True\n",
            "None\n",
            "10 -->20 -->30 -->40 -->\n",
            "5 -->10 -->20 -->30 -->40 -->\n",
            "5 -->10 -->30 -->40 -->\n"
          ],
          "name": "stdout"
        }
      ]
    }
  ]
}