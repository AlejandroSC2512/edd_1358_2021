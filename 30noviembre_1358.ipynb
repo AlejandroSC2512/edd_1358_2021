{
  "nbformat": 4,
  "nbformat_minor": 0,
  "metadata": {
    "colab": {
      "name": "30noviembre_1358.ipynb",
      "provenance": [],
      "collapsed_sections": [],
      "authorship_tag": "ABX9TyMZhYARGPtCWC/EGx2Ob+y4",
      "include_colab_link": true
    },
    "kernelspec": {
      "name": "python3",
      "display_name": "Python 3"
    }
  },
  "cells": [
    {
      "cell_type": "markdown",
      "metadata": {
        "id": "view-in-github",
        "colab_type": "text"
      },
      "source": [
        "<a href=\"https://colab.research.google.com/github/AlejandroSC2512/edd_1358_2021/blob/master/30noviembre_1358.ipynb\" target=\"_parent\"><img src=\"https://colab.research.google.com/assets/colab-badge.svg\" alt=\"Open In Colab\"/></a>"
      ]
    },
    {
      "cell_type": "code",
      "metadata": {
        "id": "E8vGuGXidf_t"
      },
      "source": [
        "class Stack:\n",
        "  def __init__(self,):\n",
        "    self.__data = []\n",
        "    self.__size = 0\n",
        "  \n",
        "  def pop (self,):\n",
        "    return self.__data.pop()\n",
        "  \n",
        "  def peek (self,):\n",
        "    return self.__data[-1]\n",
        "  \n",
        "  def push (self, value):\n",
        "    self.__data.append(value)\n",
        "  \n",
        "  def to_string (self):\n",
        "    print(\"---------\")\n",
        "    for dato in self.__data:\n",
        "      print(f\"| {dato} |\")\n",
        "      print(\"----------\")\n",
        "\n"
      ],
      "execution_count": 19,
      "outputs": []
    },
    {
      "cell_type": "code",
      "metadata": {
        "colab": {
          "base_uri": "https://localhost:8080/"
        },
        "id": "6XIjWDEOAGfN",
        "outputId": "6f5e767b-6941-46ea-c621-d28d6b4dd297"
      },
      "source": [
        "pl = Stack()\n",
        "pl.push(34)\n",
        "pl.push(10)\n",
        "pl.push(45)\n",
        "pl.push(4)\n",
        "pl.push(23)\n",
        "pl.push(33)\n",
        "valor = pl.pop()\n",
        "print( valor * 2)\n",
        "pl.to_string()\n",
        "valor = pl.peek()\n",
        "print( valor * 2)\n",
        "pl.to_string()"
      ],
      "execution_count": 20,
      "outputs": [
        {
          "output_type": "stream",
          "text": [
            "66\n",
            "---------\n",
            "| 34 |\n",
            "----------\n",
            "| 10 |\n",
            "----------\n",
            "| 45 |\n",
            "----------\n",
            "| 4 |\n",
            "----------\n",
            "| 23 |\n",
            "----------\n",
            "46\n",
            "---------\n",
            "| 34 |\n",
            "----------\n",
            "| 10 |\n",
            "----------\n",
            "| 45 |\n",
            "----------\n",
            "| 4 |\n",
            "----------\n",
            "| 23 |\n",
            "----------\n"
          ],
          "name": "stdout"
        }
      ]
    },
    {
      "cell_type": "code",
      "metadata": {
        "colab": {
          "base_uri": "https://localhost:8080/"
        },
        "id": "kWTml5CgB5gW",
        "outputId": "f52d9731-3493-409e-9fa0-e089486920fc"
      },
      "source": [
        "#Aplicacion de la estructura stack\n",
        "#1.- Validacion de parentesis balanceado \"(\" , \"{\" y \"[\"\n",
        "\n",
        "#cadena =\"b=3*(5+(4/2))\"\n",
        "cadena = \")(()\"\n",
        "pila = Stack()\n",
        "pila.push(\"#\") # Caracter de pila vacia.\n",
        "for elem in cadena:\n",
        "  if elem == cadena:\n",
        "    pila.push(\"*\")\n",
        "  elif elem == \"}\":\n",
        "    pila.pop()\n",
        "  else:\n",
        "    pass\n",
        "if pila.peek() == \"#\":\n",
        "  print(\"La expresion esta balanceada en parentesis\")\n",
        "else:\n",
        "  print(\"La expresion no esta balanceada\")\n",
        "\n",
        "\n",
        "\n",
        "\n"
      ],
      "execution_count": 18,
      "outputs": [
        {
          "output_type": "stream",
          "text": [
            "La expresion esta balanceada en parentesis\n"
          ],
          "name": "stdout"
        }
      ]
    }
  ]
}