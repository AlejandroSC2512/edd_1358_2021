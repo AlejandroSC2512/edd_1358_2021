{
  "nbformat": 4,
  "nbformat_minor": 0,
  "metadata": {
    "colab": {
      "name": "19octubre_1358.ipynb",
      "provenance": [],
      "authorship_tag": "ABX9TyM20u4FyYP420xWD3UyJHAs",
      "include_colab_link": true
    },
    "kernelspec": {
      "name": "python3",
      "display_name": "Python 3"
    }
  },
  "cells": [
    {
      "cell_type": "markdown",
      "metadata": {
        "id": "view-in-github",
        "colab_type": "text"
      },
      "source": [
        "<a href=\"https://colab.research.google.com/github/AlejandroSC2512/edd_1358_2021/blob/master/19octubre_1358.ipynb\" target=\"_parent\"><img src=\"https://colab.research.google.com/assets/colab-badge.svg\" alt=\"Open In Colab\"/></a>"
      ]
    },
    {
      "cell_type": "code",
      "metadata": {
        "id": "ZQMk_Xn9ZXn7",
        "outputId": "9527c55b-dd6c-4b77-da5e-c1e2f932b141",
        "colab": {
          "base_uri": "https://localhost:8080/",
          "height": 109
        }
      },
      "source": [
        "# Read()\n",
        "archivo = open(\"Frutas.txt\",\"rt\")\n",
        "\n",
        "data = archivo.read()\n",
        "print(data)\n",
        "\n",
        "archivo.close"
      ],
      "execution_count": 1,
      "outputs": [
        {
          "output_type": "stream",
          "text": [
            "Limon, aguacate, fresa, manzana\n",
            "ciruela, capulin, naranja\n",
            "pera,kiwi\n",
            "\n"
          ],
          "name": "stdout"
        },
        {
          "output_type": "execute_result",
          "data": {
            "text/plain": [
              "<function TextIOWrapper.close>"
            ]
          },
          "metadata": {
            "tags": []
          },
          "execution_count": 1
        }
      ]
    },
    {
      "cell_type": "code",
      "metadata": {
        "id": "w7Sncf6aeLrw",
        "outputId": "330f33ab-cdd7-410d-e118-c2eb747435ec",
        "colab": {
          "base_uri": "https://localhost:8080/",
          "height": 127
        }
      },
      "source": [
        "#Readline\n",
        "archivo = open(\"Frutas.txt\",\"rt\")\n",
        "data = archivo.readline()\n",
        "while data != \"\":\n",
        "  print(data)\n",
        "  data=archivo.readline()\n",
        "archivo.close()"
      ],
      "execution_count": 5,
      "outputs": [
        {
          "output_type": "stream",
          "text": [
            "Limon, aguacate, fresa, manzana\n",
            "\n",
            "ciruela, capulin, naranja\n",
            "\n",
            "pera,kiwi\n",
            "\n"
          ],
          "name": "stdout"
        }
      ]
    },
    {
      "cell_type": "code",
      "metadata": {
        "id": "e1pAZd98gIwY",
        "outputId": "fa30a2be-4658-46a5-afb4-5ab87dc6a36c",
        "colab": {
          "base_uri": "https://localhost:8080/",
          "height": 54
        }
      },
      "source": [
        "#Readline()\n",
        "\n",
        "archivo = open(\"Frutas.txt\",\"rt\")\n",
        "\n",
        "data = archivo.readlines()\n",
        "print(data)\n",
        "Frutas=[]\n",
        "for linea in data:\n",
        "  Frutas.append(linea.strip())\n",
        "\n",
        "Frutas_final =[]\n",
        "for elem in Frutas:\n",
        "  for Fruta in elem.split(\",\"):\n",
        "    Frutas_final.append(Fruta.strip())\n",
        "print(Frutas_final)\n",
        "archivo.close()\n"
      ],
      "execution_count": 11,
      "outputs": [
        {
          "output_type": "stream",
          "text": [
            "['Limon, aguacate, fresa, manzana\\n', 'ciruela, capulin, naranja\\n', 'pera,kiwi\\n']\n",
            "['Limon', 'aguacate', 'fresa', 'manzana', 'ciruela', 'capulin', 'naranja', 'pera', 'kiwi']\n"
          ],
          "name": "stdout"
        }
      ]
    },
    {
      "cell_type": "markdown",
      "metadata": {
        "id": "HPCjM5AAlNaK"
      },
      "source": [
        "#POO con Python\n",
        "-Clase\n",
        "-Objetos\n",
        "-Atributos\n",
        "-Metodos\n",
        "-Metodo constructor\n",
        "-Encapsulamiento (puublico y privado)\n",
        "-Herencia\n",
        "\n",
        "Declarar clases en python se usa la palabra reservada class"
      ]
    },
    {
      "cell_type": "code",
      "metadata": {
        "id": "uAdkWJBfluXB",
        "outputId": "9d970d58-9e9a-4783-ae2a-7033106185f4",
        "colab": {
          "base_uri": "https://localhost:8080/",
          "height": 54
        }
      },
      "source": [
        "class Persona:\n",
        "  def __init__( self, edd, est ):\n",
        "    self.__edad = 23\n",
        "    self.__estatura = 1.78\n",
        "\n",
        "  def to_string( self ):\n",
        "    print(f\"Edad={self.__edad}, est={self.__estatura}\") \n",
        "\n",
        "perl = Persona(23,1.78)\n",
        "perl.to_string()\n",
        "perl.__estatura = 10.4\n",
        "perl.to_string()\n",
        "\n"
      ],
      "execution_count": 22,
      "outputs": [
        {
          "output_type": "stream",
          "text": [
            "Edad=23, est=1.78\n",
            "Edad=23, est=1.78\n"
          ],
          "name": "stdout"
        }
      ]
    }
  ]
}