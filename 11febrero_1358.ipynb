{
  "nbformat": 4,
  "nbformat_minor": 0,
  "metadata": {
    "colab": {
      "name": "11febrero_1358.ipynb",
      "provenance": [],
      "collapsed_sections": [],
      "authorship_tag": "ABX9TyPNDepGEiHTtFeRqP9kIHa2",
      "include_colab_link": true
    },
    "kernelspec": {
      "name": "python3",
      "display_name": "Python 3"
    }
  },
  "cells": [
    {
      "cell_type": "markdown",
      "metadata": {
        "id": "view-in-github",
        "colab_type": "text"
      },
      "source": [
        "<a href=\"https://colab.research.google.com/github/AlejandroSC2512/edd_1358_2021/blob/master/11febrero_1358.ipynb\" target=\"_parent\"><img src=\"https://colab.research.google.com/assets/colab-badge.svg\" alt=\"Open In Colab\"/></a>"
      ]
    },
    {
      "cell_type": "code",
      "metadata": {
        "id": "T-NBqxuTMEpL"
      },
      "source": [
        "class NodoArbol:\r\n",
        "  def __init__(self,dato, hijo_izq = None, hijo_der = None):\r\n",
        "    self.dato = dato\r\n",
        "    self.hijo_izq = hijo_izq\r\n",
        "    self.hijo_der = hijo_der\r\n"
      ],
      "execution_count": 13,
      "outputs": []
    },
    {
      "cell_type": "code",
      "metadata": {
        "colab": {
          "base_uri": "https://localhost:8080/"
        },
        "id": "N6qIYSArPfg-",
        "outputId": "1021bbcf-7431-4c46-d6f3-921dde465d59"
      },
      "source": [
        "arbol = NodoArbol(\"R\")\r\n",
        "arbol.hijo_izq = NodoArbol(\"C\")\r\n",
        "arbol.hijo_der = NodoArbol(\"H\")\r\n",
        "\r\n",
        "#Como imprmir el nodo raiz\r\n",
        "print(arbol.dato)\r\n",
        "#Como imprimo el hijo izquierdo y derecho \r\n",
        "print(arbol.hijo_der.dato)\r\n",
        "print(arbol.hijo_izq.dato)"
      ],
      "execution_count": 14,
      "outputs": [
        {
          "output_type": "stream",
          "text": [
            "R\n",
            "H\n",
            "C\n"
          ],
          "name": "stdout"
        }
      ]
    },
    {
      "cell_type": "code",
      "metadata": {
        "colab": {
          "base_uri": "https://localhost:8080/"
        },
        "id": "XKIVIB3SS1Hv",
        "outputId": "8fae1136-14be-482b-8d79-1a772899312b"
      },
      "source": [
        "arbol_v2 = NodoArbol(\"R\",NodoArbol(\"C\"),NodoArbol(\"H\"))\r\n",
        "print(arbol_v2.dato)\r\n",
        "print(arbol_v2.hijo_izq.dato)\r\n",
        "print(arbol_v2.hijo_der.dato)"
      ],
      "execution_count": 12,
      "outputs": [
        {
          "output_type": "stream",
          "text": [
            "R\n",
            "C\n",
            "H\n"
          ],
          "name": "stdout"
        }
      ]
    },
    {
      "cell_type": "code",
      "metadata": {
        "colab": {
          "base_uri": "https://localhost:8080/"
        },
        "id": "mVUTCB0hTbnq",
        "outputId": "a8aadc43-9474-4a43-c7db-8283aef25b53"
      },
      "source": [
        "#Ejercicio 2 \r\n",
        "arbol_2 = NodoArbol(\"4\",NodoArbol(\"3\", NodoArbol(\"2\", NodoArbol(\"2\"))), NodoArbol(\"5\"))\r\n",
        "print(arbol_2.dato)\r\n",
        "print(arbol_2.hijo_izq.dato)\r\n",
        "print(arbol_2.hijo_izq.hijo_izq.dato)\r\n",
        "print(arbol_2.hijo_izq.hijo_izq.hijo_izq.dato)\r\n",
        "print(arbol_2.hijo_der.dato)\r\n",
        "\r\n",
        "aux = arbol_2\r\n",
        "while aux.hijo_izq != None:\r\n",
        "  aux = aux.hijo_izq\r\n",
        "print(aux.dato)\r\n"
      ],
      "execution_count": 11,
      "outputs": [
        {
          "output_type": "stream",
          "text": [
            "4\n",
            "3\n",
            "2\n",
            "2\n",
            "5\n",
            "2\n"
          ],
          "name": "stdout"
        }
      ]
    },
    {
      "cell_type": "code",
      "metadata": {
        "id": "ZO-ZQbcKYSBT"
      },
      "source": [
        "#Ejercicio 4\r\n",
        "class Nodo_Arbol:\r\n",
        "    def __init__( self , dato , hijo_izq=None , hijo_central=None , hijo_der=None):\r\n",
        "        self.dato = dato\r\n",
        "        self.hijo_izq = hijo_izq\r\n",
        "        self.hijo_der = hijo_der\r\n",
        "        self.hijo_central=  hijo_central\r\n",
        "\r\n",
        "arbol3 = Nodo_Arbol(\"R\" , Nodo_Arbol(\"I\" , None , Nodo_Arbol(\"X\")) , Nodo_Arbol(\"C\" , Nodo_Arbol(\"Y\")) , Nodo_Arbol(\"D\" , None , None , Nodo_Arbol(\"Z\")))"
      ],
      "execution_count": 15,
      "outputs": []
    }
  ]
}