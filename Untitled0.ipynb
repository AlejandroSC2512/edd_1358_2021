{
  "nbformat": 4,
  "nbformat_minor": 0,
  "metadata": {
    "colab": {
      "name": "Untitled0.ipynb",
      "provenance": [],
      "authorship_tag": "ABX9TyO3gZtYTDjdzboDId0RGTvM",
      "include_colab_link": true
    },
    "kernelspec": {
      "name": "python3",
      "display_name": "Python 3"
    }
  },
  "cells": [
    {
      "cell_type": "markdown",
      "metadata": {
        "id": "view-in-github",
        "colab_type": "text"
      },
      "source": [
        "<a href=\"https://colab.research.google.com/github/AlejandroSC2512/edd_1358_2021/blob/master/Untitled0.ipynb\" target=\"_parent\"><img src=\"https://colab.research.google.com/assets/colab-badge.svg\" alt=\"Open In Colab\"/></a>"
      ]
    },
    {
      "cell_type": "markdown",
      "metadata": {
        "id": "aChCpeu9TP7I"
      },
      "source": [
        "#Fundamentos de python 3\n",
        "#Tipos de datos\n",
        "edad = 13\n",
        "nombre = \"Alejandro\"\n",
        "estatura = 1.67\n",
        "tiene_ine = True\n",
        "\n",
        "#Tipos compusetos\n",
        "\n",
        "#Listas\n",
        "Son mutables\n",
        "Se accede a los elementos via el indice\n",
        "Los elementos pueden ser de diferente tipo\n",
        "\n",
        "lista_ejemplo = [\"Manzana\",1.57, True,[\"rojo\",\"azul\"]\n",
        "                 \n",
        "#Tuplas\n",
        "Son inmutables\n",
        "Se accede a los elementos via el indice\n",
        "Los elementos pueden ser de diferente tipo\n",
        "\n",
        "tupla_ejemplo = (\"root\",\"123.322.45.4\" , \"1234dios\" )\n",
        "#Diccionarios\n",
        "Son equivalentes a los JSON de JS.\n",
        "#Sets\n",
        "Son datos agrupados\n"
      ]
    },
    {
      "cell_type": "code",
      "metadata": {
        "id": "qnnOcq7wKcf5",
        "outputId": "9db04c96-f5ef-4247-fbb2-7f9c70878889",
        "colab": {
          "base_uri": "https://localhost:8080/",
          "height": 221
        }
      },
      "source": [
        "lista_ejemplo = [\"Manzana\",1.57, True,[\"rojo\",\"azul\"]]\n",
        "print(lista_ejemplo[1])\n",
        "print(lista_ejemplo[3])\n",
        "print(lista_ejemplo[3][1])                \n",
        "lista_ejemplo[0]=\"Manzana\"\n",
        "print(lista_ejemplo)\n",
        "lista_ejemplo.append(\"Iphone\")\n",
        "print(lista_ejemplo)\n",
        "\n",
        "#Sacar el ultimo elemento\n",
        "valor = lista_ejemplo.pop()\n",
        "print(valor)\n",
        "print(lista_ejemplo)\n",
        "#Documentacion del tipo de dato lista dir() y help()\n",
        "\n",
        "print(\"==============\")\n",
        "\n",
        "lista_ejemplo.insert(1,\"Huawei\")\n",
        "print(lista_ejemplo)\n",
        "\n",
        "lista_ejemplo.count(True)\n",
        "\n",
        "conteo = lista_ejemplo.count(\"Huawei\")\n",
        "print(conteo)\n",
        "\n",
        "colores = [\"rosa\" , \"fiusha\" , \"negro\"]\n",
        "lista_ejemplo.append(colores)\n",
        "\n",
        "print(lista_ejemplo)\n",
        "\n",
        "#Con extends fusiona las dos listas\n",
        "\n",
        "lista_ejemplo.extend(colores)\n",
        "print(lista_ejemplo)"
      ],
      "execution_count": 12,
      "outputs": [
        {
          "output_type": "stream",
          "text": [
            "1.57\n",
            "['rojo', 'azul']\n",
            "azul\n",
            "['Manzana', 1.57, True, ['rojo', 'azul']]\n",
            "['Manzana', 1.57, True, ['rojo', 'azul'], 'Iphone']\n",
            "Iphone\n",
            "['Manzana', 1.57, True, ['rojo', 'azul']]\n",
            "==============\n",
            "['Manzana', 'Huawei', 1.57, True, ['rojo', 'azul']]\n",
            "1\n",
            "['Manzana', 'Huawei', 1.57, True, ['rojo', 'azul'], ['rosa', 'fiusha', 'negro']]\n",
            "['Manzana', 'Huawei', 1.57, True, ['rojo', 'azul'], ['rosa', 'fiusha', 'negro'], 'rosa', 'fiusha', 'negro']\n"
          ],
          "name": "stdout"
        }
      ]
    }
  ]
}