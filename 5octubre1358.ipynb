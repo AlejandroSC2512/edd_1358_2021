{
  "nbformat": 4,
  "nbformat_minor": 0,
  "metadata": {
    "colab": {
      "name": "5octubre1358.ipynb",
      "provenance": [],
      "authorship_tag": "ABX9TyPU4Wo/vMbIE8+hxyUJEWrU",
      "include_colab_link": true
    },
    "kernelspec": {
      "name": "python3",
      "display_name": "Python 3"
    }
  },
  "cells": [
    {
      "cell_type": "markdown",
      "metadata": {
        "id": "view-in-github",
        "colab_type": "text"
      },
      "source": [
        "<a href=\"https://colab.research.google.com/github/AlejandroSC2512/edd_1358_2021/blob/master/5octubre1358.ipynb\" target=\"_parent\"><img src=\"https://colab.research.google.com/assets/colab-badge.svg\" alt=\"Open In Colab\"/></a>"
      ]
    },
    {
      "cell_type": "code",
      "metadata": {
        "id": "w_81JvabVSSU",
        "outputId": "ff8969f9-33ab-4ab6-a102-4e539eccb017",
        "colab": {
          "base_uri": "https://localhost:8080/",
          "height": 34
        }
      },
      "source": [
        "precio = 12.5\n",
        "cantidad = 2\n",
        "existencia = True\n",
        "\n",
        "#Precio de los chetos es de 12.5 y quiero 2 \n",
        "print(\"Precio de los chetos es de $\",precio,\"y quiero\",cantidad,\"hayT\",existencia)\n",
        "\n",
        "#format de la clase str\n",
        "print(\"El precio de los chetos es (0) y quiero (1), hay? (2)\",format(precio,cantidad,existencia))\n",
        "print(\"El precio de los chetos es (2) y quiero (1), hay? (0)\",format(precio,cantidad,existencia))\n",
        "\n",
        "#Operador f\n",
        "print(f\"El precio de los chetos es de \")"
      ],
      "execution_count": 1,
      "outputs": [
        {
          "output_type": "stream",
          "text": [
            "Precio de los chetos es de $ 12.5 y quiero 2 hayT True\n"
          ],
          "name": "stdout"
        }
      ]
    },
    {
      "cell_type": "markdown",
      "metadata": {
        "id": "-QzoxRE2agos"
      },
      "source": [
        "Conjuntos\n",
        "Grupo de elementos con la teoria de conjuntos operaciones de conjunto\n"
      ]
    },
    {
      "cell_type": "code",
      "metadata": {
        "id": "82cbxuabar-i",
        "outputId": "e5913876-14cf-4b67-eee3-cc5db88f3f5f",
        "colab": {
          "base_uri": "https://localhost:8080/",
          "height": 238
        }
      },
      "source": [
        "#Listas\n",
        "materias= [\"CyF\",\"DDA\",\"EDD\",\"IS\",\"POO\"]\n",
        "print(materias)\n",
        "\n",
        "print(materias[2])\n",
        "print(materias[-1])\n",
        "print(materias[4])\n",
        "print(materias[::-1])\n",
        "\n",
        "\n",
        "fecha = \"05/octubre/2020\"\n",
        "lista_fecha=fecha.split(\"/\")\n",
        "print(lista_fecha) \n",
        "\n",
        "#Crear un string a partir de una lista\n",
        "lista_hora = [\"15\",\"22\",\"45\"]\n",
        "hora = \":\".join(lista_hora) \n",
        "print(hora)\n",
        "\n",
        "#Slicing\n",
        "print(\"slicing\")\n",
        "numeros=[0,1,2,3,4,5,6,7,8,9,10]\n",
        "print(numeros)\n",
        "print(numeros[4:9:1])\n",
        "print(numeros[4:1])\n",
        "print(numeros[4:9:])\n",
        "\n",
        "#Sustituir un elemento con slicing\n",
        "numeros[4:9:1] = [\"a\",\"b\"]\n",
        "print(numeros)\n",
        "\n"
      ],
      "execution_count": 5,
      "outputs": [
        {
          "output_type": "stream",
          "text": [
            "['CyF', 'DDA', 'EDD', 'IS', 'POO']\n",
            "EDD\n",
            "POO\n",
            "POO\n",
            "['POO', 'IS', 'EDD', 'DDA', 'CyF']\n",
            "['05', 'octubre', '2020']\n",
            "15:22:45\n",
            "slicing\n",
            "[0, 1, 2, 3, 4, 5, 6, 7, 8, 9, 10]\n",
            "[4, 5, 6, 7, 8]\n",
            "[]\n",
            "[4, 5, 6, 7, 8]\n",
            "[0, 1, 2, 3, 'a', 'b', 9, 10]\n"
          ],
          "name": "stdout"
        }
      ]
    },
    {
      "cell_type": "code",
      "metadata": {
        "id": "N03haF3Fi10l",
        "outputId": "d871ade2-7892-44be-992b-bdea38acaf3f",
        "colab": {
          "base_uri": "https://localhost:8080/",
          "height": 51
        }
      },
      "source": [
        "autos = [\"Marda\",\"Honda\",\"Akura\",\"Ford\",\"VW\"]\n",
        "telefonos = [\"iphone\",\"Huawei Mate 10\",\"Xiaomi S10\",\"Alcatel\"]\n",
        "sistemas_operativos=[\"Windows\",\"Linux\",\"Android\",\"IOS\",\"Macros\"]\n",
        "lista_2d = [autos,telefonos,sistemas_operativos]\n",
        "print(lista_2d)\n",
        "print(lista_2d[1][1])"
      ],
      "execution_count": 7,
      "outputs": [
        {
          "output_type": "stream",
          "text": [
            "[['Marda', 'Honda', 'Akura', 'Ford', 'VW'], ['iphone', 'Huawei Mate 10', 'Xiaomi S10', 'Alcatel'], ['Windows', 'Linux', 'Android', 'IOS', 'Macros']]\n",
            "Huawei Mate 10\n"
          ],
          "name": "stdout"
        }
      ]
    }
  ]
}