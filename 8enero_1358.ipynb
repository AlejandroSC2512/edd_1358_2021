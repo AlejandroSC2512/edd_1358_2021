{
  "nbformat": 4,
  "nbformat_minor": 0,
  "metadata": {
    "colab": {
      "name": "8enero_1358.ipynb",
      "provenance": [],
      "collapsed_sections": [],
      "authorship_tag": "ABX9TyNm9PGh4Mmvd3rfqHvxAJUn",
      "include_colab_link": true
    },
    "kernelspec": {
      "name": "python3",
      "display_name": "Python 3"
    }
  },
  "cells": [
    {
      "cell_type": "markdown",
      "metadata": {
        "id": "view-in-github",
        "colab_type": "text"
      },
      "source": [
        "<a href=\"https://colab.research.google.com/github/AlejandroSC2512/edd_1358_2021/blob/master/8enero_1358.ipynb\" target=\"_parent\"><img src=\"https://colab.research.google.com/assets/colab-badge.svg\" alt=\"Open In Colab\"/></a>"
      ]
    },
    {
      "cell_type": "code",
      "metadata": {
        "id": "S7BZUMFApXQU"
      },
      "source": [
        "class Queue:\r\n",
        "  def __init__(self):\r\n",
        "    self.__data = list()\r\n",
        "  \r\n",
        "  def is_empty(self):\r\n",
        "    return len(self.__data) == 0\r\n",
        "  \r\n",
        "  def length(self):\r\n",
        "    return len(self.__data)\r\n",
        "  \r\n",
        "  def enqueue (self, item):\r\n",
        "    self.__data.append(item)\r\n",
        "\r\n",
        "  def dequeue(self):\r\n",
        "    if not self.is_empty():\r\n",
        "      return self.__data.pop(0)\r\n",
        "    else:\r\n",
        "      return None\r\n",
        "    \r\n",
        "  def to_string(self):\r\n",
        "    cadena = \"\"\r\n",
        "    for elem in self.__data:\r\n",
        "      cadena = cadena + \"|\"+ elem \r\n",
        "    cadena = cadena + \"|\"\r\n",
        "    return cadena "
      ],
      "execution_count": 13,
      "outputs": []
    },
    {
      "cell_type": "code",
      "metadata": {
        "id": "9OooULoTpYqd"
      },
      "source": [
        "class BoundedPriorityQueue:\r\n",
        "  def __init__(self,niveles):\r\n",
        "    self.__data = [Queue() for x in range(niveles)]\r\n",
        "    self.__size = 0\r\n",
        "\r\n",
        "  def is_empty(self):\r\n",
        "    return self.__size == 0\r\n",
        "  \r\n",
        "  def length (self):\r\n",
        "    return self.__size\r\n",
        "  \r\n",
        "  def enqueue(self, prioridad , elem):\r\n",
        "    if prioridad < len(self.__data) and prioridad >=0:\r\n",
        "      self.__data[prioridad].enqueue(elem)\r\n",
        "      self.__size +=1\r\n",
        "    else:\r\n",
        "      print(\"Prioridad fuera de rango\")\r\n",
        "    \r\n",
        "  def dequeue(self):\r\n",
        "    if not self.is_empty():\r\n",
        "      nivel=0\r\n",
        "      while self.__data(nivel).is_empty():\r\n",
        "        nivel += 1\r\n",
        "      return self.__data[nivel].dequeue()  \r\n",
        "  \r\n",
        "  def to_string(self):\r\n",
        "    for nivel in range(len(self.__data)):\r\n",
        "      print(f\"Nivel{nivel} --> {self.__data[nivel].to_string()}\")\r\n",
        "  \r\n"
      ],
      "execution_count": 2,
      "outputs": []
    },
    {
      "cell_type": "code",
      "metadata": {
        "colab": {
          "base_uri": "https://localhost:8080/",
          "height": 393
        },
        "id": "7sZ1NacC2FhB",
        "outputId": "8e575b29-94c4-4d64-891a-74dc98bc859c"
      },
      "source": [
        "cpa = BoundedPriorityQueue(5)\r\n",
        "\r\n",
        "\"\"\"\r\n",
        "Prioridad    Nombre\r\n",
        "2            Diana \r\n",
        "3            Santiago\r\n",
        "0            Roberto  \r\n",
        "0            Pedro\r\n",
        "2            Maria\r\n",
        "3            Jose\r\n",
        "4            Mayra\r\n",
        "4            Elena\r\n",
        "\"\"\"\r\n",
        "\r\n",
        "cpa.enqueue(2 ,\"Diana\")\r\n",
        "cpa.to_string()\r\n",
        "cpa.enqueue(3 ,\"Santiago\")\r\n",
        "cpa.enqueue(0 ,\"Roberto\")\r\n",
        "cpa.enqueue(0 ,\"Pedro\")\r\n",
        "cpa.enqueue(2 ,\"Maria\")\r\n",
        "cpa.enqueue(3 ,\"Jose\")\r\n",
        "cpa.enqueue(4 ,\"Mayra\")\r\n",
        "cpa.enqueue(4 ,\"Elena\")\r\n",
        "cpa.to_string()\r\n",
        "\r\n",
        "print(siguiente)\r\n",
        "opa.to_string()"
      ],
      "execution_count": 16,
      "outputs": [
        {
          "output_type": "stream",
          "text": [
            "Nivel0 --> |\n",
            "Nivel1 --> |\n",
            "Nivel2 --> |Diana|\n",
            "Nivel3 --> |\n",
            "Nivel4 --> |\n",
            "Nivel0 --> |Roberto|Pedro|\n",
            "Nivel1 --> |\n",
            "Nivel2 --> |Diana|Maria|\n",
            "Nivel3 --> |Santiago|Jose|\n",
            "Nivel4 --> |Mayra|Elena|\n"
          ],
          "name": "stdout"
        },
        {
          "output_type": "error",
          "ename": "NameError",
          "evalue": "ignored",
          "traceback": [
            "\u001b[0;31m---------------------------------------------------------------------------\u001b[0m",
            "\u001b[0;31mNameError\u001b[0m                                 Traceback (most recent call last)",
            "\u001b[0;32m<ipython-input-16-847cddd4577a>\u001b[0m in \u001b[0;36m<module>\u001b[0;34m()\u001b[0m\n\u001b[1;32m     24\u001b[0m \u001b[0mcpa\u001b[0m\u001b[0;34m.\u001b[0m\u001b[0mto_string\u001b[0m\u001b[0;34m(\u001b[0m\u001b[0;34m)\u001b[0m\u001b[0;34m\u001b[0m\u001b[0;34m\u001b[0m\u001b[0m\n\u001b[1;32m     25\u001b[0m \u001b[0;34m\u001b[0m\u001b[0m\n\u001b[0;32m---> 26\u001b[0;31m \u001b[0mprint\u001b[0m\u001b[0;34m(\u001b[0m\u001b[0msiguiente\u001b[0m\u001b[0;34m)\u001b[0m\u001b[0;34m\u001b[0m\u001b[0;34m\u001b[0m\u001b[0m\n\u001b[0m",
            "\u001b[0;31mNameError\u001b[0m: name 'siguiente' is not defined"
          ]
        }
      ]
    }
  ]
}