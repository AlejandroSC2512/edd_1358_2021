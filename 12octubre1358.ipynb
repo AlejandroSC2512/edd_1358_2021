{
  "nbformat": 4,
  "nbformat_minor": 0,
  "metadata": {
    "colab": {
      "name": "12octubre1358.ipynb",
      "provenance": [],
      "authorship_tag": "ABX9TyNO/kyYBkSYP83QJIegPGVH",
      "include_colab_link": true
    },
    "kernelspec": {
      "name": "python3",
      "display_name": "Python 3"
    }
  },
  "cells": [
    {
      "cell_type": "markdown",
      "metadata": {
        "id": "view-in-github",
        "colab_type": "text"
      },
      "source": [
        "<a href=\"https://colab.research.google.com/github/AlejandroSC2512/edd_1358_2021/blob/master/12octubre1358.ipynb\" target=\"_parent\"><img src=\"https://colab.research.google.com/assets/colab-badge.svg\" alt=\"Open In Colab\"/></a>"
      ]
    },
    {
      "cell_type": "code",
      "metadata": {
        "id": "qv4YfzogYkA2"
      },
      "source": [
        ""
      ],
      "execution_count": null,
      "outputs": []
    },
    {
      "cell_type": "code",
      "metadata": {
        "id": "0pn16gy6Y5Hv",
        "outputId": "9339c229-83fa-4aa1-e024-08ea508a0dca",
        "colab": {
          "base_uri": "https://localhost:8080/",
          "height": 142
        }
      },
      "source": [
        "#Diccionarios (continuacion)\n",
        "cliente_banco =  {\n",
        "                      \"id\":1,\n",
        "                  \"nombres\" :{\"Juan\",\"Antonio\"},\n",
        "                  \"paterno\" : \"Gracia\",\n",
        "                  \"materno\" : \"Perez\",\n",
        "                  \"telefono\" : {\n",
        "                                     \"casa\" :5566778899,\n",
        "                                \"celular\" : 5544332211,\n",
        "                                \"trabajo\" : 5566223311,\n",
        "                                \n",
        "                                \n",
        "                  },\n",
        "                \"activo\" : True,\n",
        "                \"balance\":234567.89,\n",
        "                \"tarjetas\":({\"tipo\":\"debito\",\"saldo\":12000},\n",
        "                            {\"tipo\":\"credito\",\"saldo\":3500.0})\n",
        "}\n",
        "\n",
        "print(cliente_banco)\n",
        "#cliente_banco[\"balance\"]= cliente_banco[\"balance\"] = 1000.89\n",
        "cliente_banco[\"balance\"] -=1000.89\n",
        "\n",
        "print(cliente_banco)\n",
        "cliente_banco[\"tarjetas\"] = ({\"tipo\":\"debito\",\"saldo\":12000},\n",
        "                             {\"tipo\":\"credito\",\"saldo\":3500},\n",
        "                             {\"tipo\":\"credito\",\"nivel\":\"oro\",\"saldo\":50000})\n",
        "\n",
        "print(cliente_banco)\n",
        "cliente_banco[\"direccion\"]={\"calle\":\"rancho seco\",\"num\":23}\n",
        "print(cliente_banco)\n",
        "cliente_banco.pop(\"tarjetas\")\n",
        "print(cliente_banco)\n"
      ],
      "execution_count": 5,
      "outputs": [
        {
          "output_type": "stream",
          "text": [
            "{'id': 1, 'nombres': {'Antonio', 'Juan'}, 'paterno': 'Gracia', 'materno': 'Perez', 'telefono': {'casa': 5566778899, 'celular': 5544332211, 'trabajo': 5566223311}, 'activo': True, 'balance': 234567.89, 'tarjetas': ({'tipo': 'debito', 'saldo': 12000}, {'tipo': 'credito', 'saldo': 3500.0})}\n",
            "{'id': 1, 'nombres': {'Antonio', 'Juan'}, 'paterno': 'Gracia', 'materno': 'Perez', 'telefono': {'casa': 5566778899, 'celular': 5544332211, 'trabajo': 5566223311}, 'activo': True, 'balance': 233567.0, 'tarjetas': ({'tipo': 'debito', 'saldo': 12000}, {'tipo': 'credito', 'saldo': 3500.0})}\n",
            "{'id': 1, 'nombres': {'Antonio', 'Juan'}, 'paterno': 'Gracia', 'materno': 'Perez', 'telefono': {'casa': 5566778899, 'celular': 5544332211, 'trabajo': 5566223311}, 'activo': True, 'balance': 233567.0, 'tarjetas': ({'tipo': 'debito', 'saldo': 12000}, {'tipo': 'credito', 'saldo': 3500}, {'tipo': 'credito', 'nivel': 'oro', 'saldo': 50000})}\n",
            "{'id': 1, 'nombres': {'Antonio', 'Juan'}, 'paterno': 'Gracia', 'materno': 'Perez', 'telefono': {'casa': 5566778899, 'celular': 5544332211, 'trabajo': 5566223311}, 'activo': True, 'balance': 233567.0, 'tarjetas': ({'tipo': 'debito', 'saldo': 12000}, {'tipo': 'credito', 'saldo': 3500}, {'tipo': 'credito', 'nivel': 'oro', 'saldo': 50000}), 'direccion': {'calle': 'rancho seco', 'num': 23}}\n",
            "{'id': 1, 'nombres': {'Antonio', 'Juan'}, 'paterno': 'Gracia', 'materno': 'Perez', 'telefono': {'casa': 5566778899, 'celular': 5544332211, 'trabajo': 5566223311}, 'activo': True, 'balance': 233567.0, 'direccion': {'calle': 'rancho seco', 'num': 23}}\n"
          ],
          "name": "stdout"
        }
      ]
    },
    {
      "cell_type": "code",
      "metadata": {
        "id": "mkmmAQtXdhrT",
        "outputId": "a896f4cc-5c2a-4b32-b9ec-71793e730d50",
        "colab": {
          "base_uri": "https://localhost:8080/",
          "height": 604
        }
      },
      "source": [
        "llaves = cliente_banco.keys()\n",
        "print(llaves)\n",
        "print(type(llaves))\n",
        "for x in llaves:\n",
        "      print(x)\n",
        "\n",
        "valores = cliente_banco.values()\n",
        "for v in valores:\n",
        "  print(v)\n",
        "\n",
        "pares = cliente_banco.items()\n",
        "print(pares)\n",
        "\n",
        "for elem in pares:\n",
        "  print(f\" {elem[0]} = {elem[1]}\")"
      ],
      "execution_count": 13,
      "outputs": [
        {
          "output_type": "stream",
          "text": [
            "dict_keys(['id', 'nombres', 'paterno', 'materno', 'telefono', 'activo', 'balance', 'direccion'])\n",
            "<class 'dict_keys'>\n",
            "id\n",
            "nombres\n",
            "paterno\n",
            "materno\n",
            "telefono\n",
            "activo\n",
            "balance\n",
            "direccion\n",
            "1\n",
            "{'Antonio', 'Juan'}\n",
            "Gracia\n",
            "Perez\n",
            "{'casa': 5566778899, 'celular': 5544332211, 'trabajo': 5566223311}\n",
            "True\n",
            "233567.0\n",
            "{'calle': 'rancho seco', 'num': 23}\n",
            "dict_items([('id', 1), ('nombres', {'Antonio', 'Juan'}), ('paterno', 'Gracia'), ('materno', 'Perez'), ('telefono', {'casa': 5566778899, 'celular': 5544332211, 'trabajo': 5566223311}), ('activo', True), ('balance', 233567.0), ('direccion', {'calle': 'rancho seco', 'num': 23})])\n",
            " id = 1\n",
            " nombres = {'Antonio', 'Juan'}\n",
            " paterno = Gracia\n",
            " materno = Perez\n",
            " telefono = {'casa': 5566778899, 'celular': 5544332211, 'trabajo': 5566223311}\n",
            " activo = True\n",
            " balance = 233567.0\n",
            " direccion = {'calle': 'rancho seco', 'num': 23}\n"
          ],
          "name": "stdout"
        }
      ]
    },
    {
      "cell_type": "code",
      "metadata": {
        "id": "CG56z3prg5c-",
        "outputId": "6fc9b3ed-0deb-4a78-c914-1647935e1f3b",
        "colab": {
          "base_uri": "https://localhost:8080/",
          "height": 38
        }
      },
      "source": [
        "frutas = {\"nombre\":\"manzana\",\"color\":\"rojo\",\"estado\":\"chihuahua\"}\n",
        "otras_caracteristicas = {\"vitamia\":\"D\"}\n",
        "frutas.update(otras_caracteristicas)\n",
        "print(frutas)"
      ],
      "execution_count": 15,
      "outputs": [
        {
          "output_type": "stream",
          "text": [
            "{'nombre': 'manzana', 'color': 'rojo', 'estado': 'chihuahua', 'vitamia': 'D'}\n"
          ],
          "name": "stdout"
        }
      ]
    },
    {
      "cell_type": "markdown",
      "metadata": {
        "id": "3jtMKbhSiP1c"
      },
      "source": [
        "# Funciones\n",
        "Recibe de 0 a N argumentos de entrada y regresa solo un valor, aunque ese valor sea none\n",
        "Tiene un nombre unico en el contexto\n",
        "Se pueden hacer dos cosas con funciones:\n",
        "       -Definirla\n",
        "       -Llamarla"
      ]
    },
    {
      "cell_type": "code",
      "metadata": {
        "id": "hTFSndX-i9Rj",
        "outputId": "4aa8d964-e0f6-44f9-f0bb-7e3d9387ba5a",
        "colab": {
          "base_uri": "https://localhost:8080/",
          "height": 59
        }
      },
      "source": [
        "def suma(a,b):\n",
        "  return a+b\n",
        "\n",
        "\n",
        "def saludar():\n",
        "  print(\"Hola, ¿Como estas?\")\n",
        "  return None\n",
        "x=10\n",
        "y=20\n",
        "c=suma(x,y)\n",
        "\n",
        "print(c)\n",
        "saludar()"
      ],
      "execution_count": 19,
      "outputs": [
        {
          "output_type": "stream",
          "text": [
            "30\n",
            "Hola, ¿Como estas?\n"
          ],
          "name": "stdout"
        }
      ]
    },
    {
      "cell_type": "markdown",
      "metadata": {
        "id": "ieuQOyX3kt0n"
      },
      "source": [
        "#None y las funciones\n",
        "Aprovechar el uso de None en paso de parametros "
      ]
    },
    {
      "cell_type": "code",
      "metadata": {
        "id": "6thftcOxk7tQ",
        "outputId": "f2337277-d3da-40f2-b484-7a8d8d6db685",
        "colab": {
          "base_uri": "https://localhost:8080/",
          "height": 59
        }
      },
      "source": [
        "def calcular(base, veces):\n",
        "  if base != None:\n",
        "    resultado = base * veces\n",
        "  else:\n",
        "    resultado = \"desconocido\"\n",
        "    return resultado\n",
        "print(calcular(3,4))\n",
        "print(calcular(None,3))"
      ],
      "execution_count": 23,
      "outputs": [
        {
          "output_type": "stream",
          "text": [
            "None\n",
            "desconocido\n"
          ],
          "name": "stdout"
        }
      ]
    }
  ]
}